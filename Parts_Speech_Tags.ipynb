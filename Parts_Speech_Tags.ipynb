{
 "cells": [
  {
   "cell_type": "code",
   "execution_count": null,
   "id": "ad9f2d85",
   "metadata": {},
   "outputs": [],
   "source": [
    "\"\"\"Taj Mahal is a beautiful Momemts\"\"\""
   ]
  },
  {
   "cell_type": "code",
   "execution_count": null,
   "id": "8b9ed68b",
   "metadata": {},
   "outputs": [],
   "source": [
    "'''\n",
    "Parts of speech are the basic categories of words according to their function in a sentence. \n",
    "In English grammar, there are eight main parts of speech, each playing a different role in communication.\n",
    "\n",
    "1. Noun\n",
    "    A noun is a word that names a person, place, thing, idea, or feeling.\n",
    "    Examples: cat, school, happiness, London, book\n",
    "    Sentence: The dog barked loudly.\n",
    "\n",
    "2. Pronoun\n",
    "    A pronoun is a word used in place of a noun to avoid repetition.\n",
    "    Examples: he, she, it, they, we, you, who\n",
    "    Sentence: Sarah is kind. She helps everyone.\n",
    "'''"
   ]
  },
  {
   "cell_type": "code",
   "execution_count": 2,
   "id": "2115a30f",
   "metadata": {},
   "outputs": [
    {
     "data": {
      "text/plain": [
       "['Artificial Intelligence, or AI, is transforming the way people work, create, and interact with the world around them, and one of the most exciting and controversial developments within AI is generative AI.',\n",
       " 'Generative AI refers to a category of models and algorithms that can generate content such as text, images, music, or videos based on patterns and data they have previously learned.',\n",
       " 'These models, which include examples like ChatGPT for language generation, DALL·E for image generation, and MusicLM for music creation, are not just tools for automation, but rather systems that are designed to collaborate with human creativity.',\n",
       " 'As a result, they are being increasingly used in creative industries where they can assist with brainstorming, content drafting, visual design, and more.',\n",
       " 'Whether someone is a novelist looking to generate plot ideas, or a designer who wants to quickly prototype a logo, generative AI offers a powerful set of tools that can be used to enhance and accelerate the creative process.',\n",
       " 'At the same time, generative AI is not without its criticisms and concerns, and there are many discussions about the ethical, legal, and social implications of its widespread use.',\n",
       " 'One issue is that AI systems often rely on large amounts of data that may contain biased, copyrighted, or private information, which means that the outputs they generate might inadvertently replicate these issues.',\n",
       " 'There are also questions about who owns the content that is produced by these models—does it belong to the user who gave the input, or the developers who built the model, or perhaps the original creators whose work the model learned from?',\n",
       " 'These are not easy questions to answer, and as generative AI continues to evolve, it will be important for developers, artists, companies, and governments to work together to build systems that are fair, accountable, and respectful of human rights.',\n",
       " 'In addition to these challenges, there are also concerns about job displacement, especially in sectors where creative work is a primary task.',\n",
       " 'While AI can help people do their jobs better and faster, there is also the fear that it might replace human workers altogether.',\n",
       " 'For example, some freelance writers and graphic designers worry that clients might start using AI tools instead of hiring professionals.',\n",
       " 'However, many experts argue that AI is not meant to replace people, but to support them.',\n",
       " 'Just like how the invention of the camera didn’t eliminate painting, or how digital music software didn’t replace musicians, AI is likely to become one more tool in the creative toolbox.',\n",
       " 'People will still be needed to guide the process, make judgments, add emotional depth, and ensure quality.',\n",
       " 'Overall, the impact of generative AI on the creative industries is both exciting and complex.',\n",
       " 'It offers incredible new opportunities for individuals and teams to express themselves, explore ideas, and solve problems, but it also requires careful thought and responsible usage.',\n",
       " 'As the technology continues to improve, the most successful outcomes will probably come from collaborations between humans and AI systems, where each can do what they do best—and where creativity, supported by technology, can reach new and inspiring heights.']"
      ]
     },
     "execution_count": 2,
     "metadata": {},
     "output_type": "execute_result"
    }
   ],
   "source": [
    "import nltk\n",
    "\n",
    "paragraphs = \"\"\"Artificial Intelligence, or AI, is transforming the way people work, create, and interact with the world around them, and one of the most exciting and controversial developments within AI is generative AI. Generative AI refers to a category of models and algorithms that can generate content such as text, images, music, or videos based on patterns and data they have previously learned. These models, which include examples like ChatGPT for language generation, DALL·E for image generation, and MusicLM for music creation, are not just tools for automation, but rather systems that are designed to collaborate with human creativity. As a result, they are being increasingly used in creative industries where they can assist with brainstorming, content drafting, visual design, and more. Whether someone is a novelist looking to generate plot ideas, or a designer who wants to quickly prototype a logo, generative AI offers a powerful set of tools that can be used to enhance and accelerate the creative process.\n",
    "\n",
    "At the same time, generative AI is not without its criticisms and concerns, and there are many discussions about the ethical, legal, and social implications of its widespread use. One issue is that AI systems often rely on large amounts of data that may contain biased, copyrighted, or private information, which means that the outputs they generate might inadvertently replicate these issues. There are also questions about who owns the content that is produced by these models—does it belong to the user who gave the input, or the developers who built the model, or perhaps the original creators whose work the model learned from? These are not easy questions to answer, and as generative AI continues to evolve, it will be important for developers, artists, companies, and governments to work together to build systems that are fair, accountable, and respectful of human rights.\n",
    "\n",
    "In addition to these challenges, there are also concerns about job displacement, especially in sectors where creative work is a primary task. While AI can help people do their jobs better and faster, there is also the fear that it might replace human workers altogether. For example, some freelance writers and graphic designers worry that clients might start using AI tools instead of hiring professionals. However, many experts argue that AI is not meant to replace people, but to support them. Just like how the invention of the camera didn’t eliminate painting, or how digital music software didn’t replace musicians, AI is likely to become one more tool in the creative toolbox. People will still be needed to guide the process, make judgments, add emotional depth, and ensure quality.\n",
    "\n",
    "Overall, the impact of generative AI on the creative industries is both exciting and complex. It offers incredible new opportunities for individuals and teams to express themselves, explore ideas, and solve problems, but it also requires careful thought and responsible usage. As the technology continues to improve, the most successful outcomes will probably come from collaborations between humans and AI systems, where each can do what they do best—and where creativity, supported by technology, can reach new and inspiring heights.\n",
    "\n",
    "\"\"\"\n",
    "sentences = nltk.sent_tokenize(paragraphs)\n",
    "sentences"
   ]
  },
  {
   "cell_type": "code",
   "execution_count": 9,
   "id": "20d789a4",
   "metadata": {},
   "outputs": [
    {
     "name": "stderr",
     "output_type": "stream",
     "text": [
      "[nltk_data] Downloading package stopwords to\n",
      "[nltk_data]     /Users/netrakc/nltk_data...\n",
      "[nltk_data]   Package stopwords is already up-to-date!\n",
      "[nltk_data] Downloading package averaged_perceptron_tagger to\n",
      "[nltk_data]     /Users/netrakc/nltk_data...\n",
      "[nltk_data]   Unzipping taggers/averaged_perceptron_tagger.zip.\n"
     ]
    },
    {
     "name": "stdout",
     "output_type": "stream",
     "text": [
      "[('Artificial', 'JJ'), ('Intelligence', 'NNP'), (',', ','), ('AI', 'NNP'), (',', ','), ('transforming', 'VBG'), ('way', 'NN'), ('people', 'NNS'), ('work', 'VBP'), (',', ','), ('create', 'VBP'), (',', ','), ('interact', 'JJ'), ('world', 'NN'), ('around', 'IN'), (',', ','), ('one', 'CD'), ('exciting', 'VBG'), ('controversial', 'JJ'), ('developments', 'NNS'), ('within', 'IN'), ('AI', 'NNP'), ('generative', 'JJ'), ('AI', 'NNP'), ('.', '.')]\n",
      "[('Generative', 'JJ'), ('AI', 'NNP'), ('refers', 'NNS'), ('category', 'NN'), ('models', 'NNS'), ('algorithms', 'VBP'), ('generate', 'JJ'), ('content', 'NN'), ('text', 'NN'), (',', ','), ('images', 'NNS'), (',', ','), ('music', 'NN'), (',', ','), ('videos', 'NNS'), ('based', 'VBN'), ('patterns', 'NNS'), ('data', 'NNS'), ('previously', 'RB'), ('learned', 'VBN'), ('.', '.')]\n",
      "[('These', 'DT'), ('models', 'NNS'), (',', ','), ('include', 'VBP'), ('examples', 'NNS'), ('like', 'IN'), ('ChatGPT', 'NNP'), ('language', 'NN'), ('generation', 'NN'), (',', ','), ('DALL·E', 'NNP'), ('image', 'NN'), ('generation', 'NN'), (',', ','), ('MusicLM', 'NNP'), ('music', 'NN'), ('creation', 'NN'), (',', ','), ('tools', 'JJ'), ('automation', 'NN'), (',', ','), ('rather', 'RB'), ('systems', 'NNS'), ('designed', 'VBN'), ('collaborate', 'JJ'), ('human', 'JJ'), ('creativity', 'NN'), ('.', '.')]\n",
      "[('As', 'IN'), ('result', 'NN'), (',', ','), ('increasingly', 'RB'), ('used', 'VBN'), ('creative', 'JJ'), ('industries', 'NNS'), ('assist', 'VBP'), ('brainstorming', 'VBG'), (',', ','), ('content', 'JJ'), ('drafting', 'NN'), (',', ','), ('visual', 'JJ'), ('design', 'NN'), (',', ','), ('.', '.')]\n",
      "[('Whether', 'NNP'), ('someone', 'NN'), ('novelist', 'NN'), ('looking', 'VBG'), ('generate', 'NN'), ('plot', 'NN'), ('ideas', 'NNS'), (',', ','), ('designer', 'NN'), ('wants', 'VBZ'), ('quickly', 'RB'), ('prototype', 'NN'), ('logo', 'NN'), (',', ','), ('generative', 'JJ'), ('AI', 'NNP'), ('offers', 'NNS'), ('powerful', 'JJ'), ('set', 'NN'), ('tools', 'NNS'), ('used', 'VBD'), ('enhance', 'NN'), ('accelerate', 'JJ'), ('creative', 'JJ'), ('process', 'NN'), ('.', '.')]\n",
      "[('At', 'IN'), ('time', 'NN'), (',', ','), ('generative', 'JJ'), ('AI', 'NNP'), ('without', 'IN'), ('criticisms', 'JJ'), ('concerns', 'NNS'), (',', ','), ('many', 'JJ'), ('discussions', 'NNS'), ('ethical', 'JJ'), (',', ','), ('legal', 'JJ'), (',', ','), ('social', 'JJ'), ('implications', 'NNS'), ('widespread', 'JJ'), ('use', 'NN'), ('.', '.')]\n",
      "[('One', 'CD'), ('issue', 'NN'), ('AI', 'NNP'), ('systems', 'NNS'), ('often', 'RB'), ('rely', 'RB'), ('large', 'JJ'), ('amounts', 'NNS'), ('data', 'NNS'), ('may', 'MD'), ('contain', 'VB'), ('biased', 'JJ'), (',', ','), ('copyrighted', 'VBN'), (',', ','), ('private', 'JJ'), ('information', 'NN'), (',', ','), ('means', 'VBZ'), ('outputs', 'NNS'), ('generate', 'NN'), ('might', 'MD'), ('inadvertently', 'RB'), ('replicate', 'VB'), ('issues', 'NNS'), ('.', '.')]\n",
      "[('There', 'EX'), ('also', 'RB'), ('questions', 'NNS'), ('owns', 'VBZ'), ('content', 'NN'), ('produced', 'VBD'), ('models—does', 'NNS'), ('belong', 'IN'), ('user', 'NN'), ('gave', 'VBD'), ('input', 'NN'), (',', ','), ('developers', 'NNS'), ('built', 'VBP'), ('model', 'NN'), (',', ','), ('perhaps', 'RB'), ('original', 'JJ'), ('creators', 'NNS'), ('whose', 'WP$'), ('work', 'NN'), ('model', 'NN'), ('learned', 'VBN'), ('?', '.')]\n",
      "[('These', 'DT'), ('easy', 'JJ'), ('questions', 'NNS'), ('answer', 'VBP'), (',', ','), ('generative', 'JJ'), ('AI', 'NNP'), ('continues', 'VBZ'), ('evolve', 'VB'), (',', ','), ('important', 'JJ'), ('developers', 'NNS'), (',', ','), ('artists', 'NNS'), (',', ','), ('companies', 'NNS'), (',', ','), ('governments', 'NNS'), ('work', 'VBP'), ('together', 'RB'), ('build', 'JJ'), ('systems', 'NNS'), ('fair', 'JJ'), (',', ','), ('accountable', 'JJ'), (',', ','), ('respectful', 'JJ'), ('human', 'JJ'), ('rights', 'NNS'), ('.', '.')]\n",
      "[('In', 'IN'), ('addition', 'NN'), ('challenges', 'NNS'), (',', ','), ('also', 'RB'), ('concerns', 'VBZ'), ('job', 'NN'), ('displacement', 'NN'), (',', ','), ('especially', 'RB'), ('sectors', 'NNS'), ('creative', 'JJ'), ('work', 'NN'), ('primary', 'JJ'), ('task', 'NN'), ('.', '.')]\n",
      "[('While', 'IN'), ('AI', 'NNP'), ('help', 'VBP'), ('people', 'NNS'), ('jobs', 'NNS'), ('better', 'RBR'), ('faster', 'NN'), (',', ','), ('also', 'RB'), ('fear', 'NN'), ('might', 'MD'), ('replace', 'VB'), ('human', 'JJ'), ('workers', 'NNS'), ('altogether', 'RB'), ('.', '.')]\n",
      "[('For', 'IN'), ('example', 'NN'), (',', ','), ('freelance', 'NN'), ('writers', 'NNS'), ('graphic', 'JJ'), ('designers', 'NNS'), ('worry', 'VBP'), ('clients', 'NNS'), ('might', 'MD'), ('start', 'VB'), ('using', 'VBG'), ('AI', 'NNP'), ('tools', 'NNS'), ('instead', 'RB'), ('hiring', 'VBG'), ('professionals', 'NNS'), ('.', '.')]\n",
      "[('However', 'RB'), (',', ','), ('many', 'JJ'), ('experts', 'NNS'), ('argue', 'VBP'), ('AI', 'NNP'), ('meant', 'JJ'), ('replace', 'VB'), ('people', 'NNS'), (',', ','), ('support', 'NN'), ('.', '.')]\n",
      "[('Just', 'RB'), ('like', 'IN'), ('invention', 'NN'), ('camera', 'NN'), ('’', 'NN'), ('eliminate', 'NN'), ('painting', 'NN'), (',', ','), ('digital', 'JJ'), ('music', 'NN'), ('software', 'NN'), ('’', 'NNP'), ('replace', 'VB'), ('musicians', 'NNS'), (',', ','), ('AI', 'NNP'), ('likely', 'RB'), ('become', 'VBP'), ('one', 'CD'), ('tool', 'NN'), ('creative', 'JJ'), ('toolbox', 'NN'), ('.', '.')]\n",
      "[('People', 'NNS'), ('still', 'RB'), ('needed', 'VBN'), ('guide', 'NN'), ('process', 'NN'), (',', ','), ('make', 'VBP'), ('judgments', 'NNS'), (',', ','), ('add', 'VBP'), ('emotional', 'JJ'), ('depth', 'NN'), (',', ','), ('ensure', 'VB'), ('quality', 'NN'), ('.', '.')]\n",
      "[('Overall', 'JJ'), (',', ','), ('impact', 'JJ'), ('generative', 'JJ'), ('AI', 'NNP'), ('creative', 'NN'), ('industries', 'NNS'), ('exciting', 'VBG'), ('complex', 'NN'), ('.', '.')]\n",
      "[('It', 'PRP'), ('offers', 'VBZ'), ('incredible', 'JJ'), ('new', 'JJ'), ('opportunities', 'NNS'), ('individuals', 'NNS'), ('teams', 'NNS'), ('express', 'RB'), (',', ','), ('explore', 'RB'), ('ideas', 'NNS'), (',', ','), ('solve', 'VB'), ('problems', 'NNS'), (',', ','), ('also', 'RB'), ('requires', 'VBZ'), ('careful', 'JJ'), ('thought', 'JJ'), ('responsible', 'JJ'), ('usage', 'NN'), ('.', '.')]\n",
      "[('As', 'IN'), ('technology', 'NN'), ('continues', 'VBZ'), ('improve', 'VB'), (',', ','), ('successful', 'JJ'), ('outcomes', 'RB'), ('probably', 'RB'), ('come', 'JJ'), ('collaborations', 'NNS'), ('humans', 'NNS'), ('AI', 'VBP'), ('systems', 'NNS'), (',', ','), ('best—and', 'NN'), ('creativity', 'NN'), (',', ','), ('supported', 'VBD'), ('technology', 'NN'), (',', ','), ('reach', 'VBP'), ('new', 'JJ'), ('inspiring', 'JJ'), ('heights', 'NNS'), ('.', '.')]\n"
     ]
    }
   ],
   "source": [
    "from nltk.stem import PorterStemmer\n",
    "from nltk.corpus import stopwords\n",
    "import nltk\n",
    "nltk.download('stopwords')\n",
    "nltk.download('averaged_perceptron_tagger')\n",
    "\n",
    "stemmer = PorterStemmer()\n",
    "\n",
    "for i in range(len(sentences)):\n",
    "    words = nltk.word_tokenize(sentences[i])\n",
    "    words = [word for word in words if word not in set(stopwords.words('english'))]\n",
    "    # sentences[i] = ' '.join(words)\n",
    "    pos_tag = nltk.pos_tag(words)\n",
    "    print(pos_tag)"
   ]
  },
  {
   "cell_type": "code",
   "execution_count": 18,
   "id": "264a1286",
   "metadata": {},
   "outputs": [
    {
     "data": {
      "text/plain": [
       "[('Taj', 'NNP'),\n",
       " ('Mahal', 'NNP'),\n",
       " ('is', 'VBZ'),\n",
       " ('a', 'DT'),\n",
       " ('beautiful', 'JJ'),\n",
       " ('Monument', 'NN')]"
      ]
     },
     "execution_count": 18,
     "metadata": {},
     "output_type": "execute_result"
    }
   ],
   "source": [
    "nltk.pos_tag(\"Taj Mahal is a beautiful Monument\".split())"
   ]
  },
  {
   "cell_type": "code",
   "execution_count": null,
   "id": "bb588c3a",
   "metadata": {},
   "outputs": [],
   "source": []
  },
  {
   "cell_type": "code",
   "execution_count": null,
   "id": "bd7a28cc",
   "metadata": {},
   "outputs": [],
   "source": []
  },
  {
   "cell_type": "code",
   "execution_count": null,
   "id": "a1f2e63f",
   "metadata": {},
   "outputs": [],
   "source": []
  },
  {
   "cell_type": "code",
   "execution_count": null,
   "id": "9cec9fe0",
   "metadata": {},
   "outputs": [],
   "source": []
  },
  {
   "cell_type": "code",
   "execution_count": null,
   "id": "2544e6f4",
   "metadata": {},
   "outputs": [],
   "source": []
  }
 ],
 "metadata": {
  "kernelspec": {
   "display_name": "base",
   "language": "python",
   "name": "python3"
  },
  "language_info": {
   "codemirror_mode": {
    "name": "ipython",
    "version": 3
   },
   "file_extension": ".py",
   "mimetype": "text/x-python",
   "name": "python",
   "nbconvert_exporter": "python",
   "pygments_lexer": "ipython3",
   "version": "3.12.2"
  }
 },
 "nbformat": 4,
 "nbformat_minor": 5
}
