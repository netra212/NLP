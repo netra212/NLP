{
 "cells": [
  {
   "cell_type": "code",
   "execution_count": 2,
   "id": "a41af21c",
   "metadata": {},
   "outputs": [
    {
     "name": "stdout",
     "output_type": "stream",
     "text": [
      "Requirement already satisfied: nltk in /opt/anaconda3/lib/python3.12/site-packages (3.8.1)\n",
      "Requirement already satisfied: click in /opt/anaconda3/lib/python3.12/site-packages (from nltk) (8.1.7)\n",
      "Requirement already satisfied: joblib in /opt/anaconda3/lib/python3.12/site-packages (from nltk) (1.4.2)\n",
      "Requirement already satisfied: regex>=2021.8.3 in /opt/anaconda3/lib/python3.12/site-packages (from nltk) (2023.10.3)\n",
      "Requirement already satisfied: tqdm in /opt/anaconda3/lib/python3.12/site-packages (from nltk) (4.66.4)\n"
     ]
    }
   ],
   "source": [
    "!pip install nltk"
   ]
  },
  {
   "cell_type": "code",
   "execution_count": 3,
   "id": "de25ca76",
   "metadata": {},
   "outputs": [],
   "source": [
    "import nltk"
   ]
  },
  {
   "cell_type": "code",
   "execution_count": 14,
   "id": "fe73fbfd",
   "metadata": {},
   "outputs": [
    {
     "data": {
      "text/plain": [
       "'Hello, Welcome to University of Greenwich, Master in Data Science Course. Please attend the all the lectures of data science course ! to become full stack data scientist. \\n'"
      ]
     },
     "execution_count": 14,
     "metadata": {},
     "output_type": "execute_result"
    }
   ],
   "source": [
    "corpus = \"\"\"Hello, Welcome to University of Greenwich, Master in Data Science Course. Please attend the all the lectures of data science course ! to become full stack data scientist. \n",
    "\"\"\"\n",
    "corpus"
   ]
  },
  {
   "cell_type": "code",
   "execution_count": 15,
   "id": "f1d59dc3",
   "metadata": {},
   "outputs": [
    {
     "data": {
      "text/plain": [
       "['Hello, Welcome to University of Greenwich, Master in Data Science Course.',\n",
       " 'Please attend the all the lectures of data science course !',\n",
       " 'to become full stack data scientist.']"
      ]
     },
     "execution_count": 15,
     "metadata": {},
     "output_type": "execute_result"
    }
   ],
   "source": [
    "# Tokenization: Converting a Paragraphs to Sentences.  \n",
    "\n",
    "from nltk.tokenize import sent_tokenize\n",
    "\n",
    "documents = sent_tokenize(corpus)\n",
    "\n",
    "documents"
   ]
  },
  {
   "cell_type": "code",
   "execution_count": 16,
   "id": "ac38ce43",
   "metadata": {},
   "outputs": [
    {
     "data": {
      "text/plain": [
       "list"
      ]
     },
     "execution_count": 16,
     "metadata": {},
     "output_type": "execute_result"
    }
   ],
   "source": [
    "type(documents)"
   ]
  },
  {
   "cell_type": "code",
   "execution_count": 17,
   "id": "0b7a6335",
   "metadata": {},
   "outputs": [
    {
     "name": "stdout",
     "output_type": "stream",
     "text": [
      "Hello, Welcome to University of Greenwich, Master in Data Science Course.\n",
      "Please attend the all the lectures of data science course !\n",
      "to become full stack data scientist.\n"
     ]
    }
   ],
   "source": [
    "for sent in documents:\n",
    "    print(sent)"
   ]
  },
  {
   "cell_type": "code",
   "execution_count": 19,
   "id": "ce1ec088",
   "metadata": {},
   "outputs": [
    {
     "data": {
      "text/plain": [
       "['Hello',\n",
       " ',',\n",
       " 'Welcome',\n",
       " 'to',\n",
       " 'University',\n",
       " 'of',\n",
       " 'Greenwich',\n",
       " ',',\n",
       " 'Master',\n",
       " 'in',\n",
       " 'Data',\n",
       " 'Science',\n",
       " 'Course',\n",
       " '.',\n",
       " 'Please',\n",
       " 'attend',\n",
       " 'the',\n",
       " 'all',\n",
       " 'the',\n",
       " 'lectures',\n",
       " 'of',\n",
       " 'data',\n",
       " 'science',\n",
       " 'course',\n",
       " '!',\n",
       " 'to',\n",
       " 'become',\n",
       " 'full',\n",
       " 'stack',\n",
       " 'data',\n",
       " 'scientist',\n",
       " '.']"
      ]
     },
     "execution_count": 19,
     "metadata": {},
     "output_type": "execute_result"
    }
   ],
   "source": [
    "# Tokenization\n",
    "# Convert Paragraphs into words. \n",
    "\n",
    "from nltk.tokenize import word_tokenize\n",
    "\n",
    "documents = word_tokenize(corpus)\n",
    "documents"
   ]
  },
  {
   "cell_type": "code",
   "execution_count": 21,
   "id": "32915bfd",
   "metadata": {},
   "outputs": [
    {
     "name": "stdout",
     "output_type": "stream",
     "text": [
      "['Hello']\n",
      "[',']\n",
      "['Welcome']\n",
      "['to']\n",
      "['University']\n",
      "['of']\n",
      "['Greenwich']\n",
      "[',']\n",
      "['Master']\n",
      "['in']\n",
      "['Data']\n",
      "['Science']\n",
      "['Course']\n",
      "['.']\n",
      "['Please']\n",
      "['attend']\n",
      "['the']\n",
      "['all']\n",
      "['the']\n",
      "['lectures']\n",
      "['of']\n",
      "['data']\n",
      "['science']\n",
      "['course']\n",
      "['!']\n",
      "['to']\n",
      "['become']\n",
      "['full']\n",
      "['stack']\n",
      "['data']\n",
      "['scientist']\n",
      "['.']\n"
     ]
    }
   ],
   "source": [
    "for sentence in documents:\n",
    "    print(word_tokenize(sentence))"
   ]
  },
  {
   "cell_type": "code",
   "execution_count": 22,
   "id": "4f4782d2",
   "metadata": {},
   "outputs": [
    {
     "data": {
      "text/plain": [
       "['Hello',\n",
       " ',',\n",
       " 'Welcome',\n",
       " 'to',\n",
       " 'University',\n",
       " 'of',\n",
       " 'Greenwich',\n",
       " ',',\n",
       " 'Master',\n",
       " 'in',\n",
       " 'Data',\n",
       " 'Science',\n",
       " 'Course',\n",
       " '.',\n",
       " 'Please',\n",
       " 'attend',\n",
       " 'the',\n",
       " 'all',\n",
       " 'the',\n",
       " 'lectures',\n",
       " 'of',\n",
       " 'data',\n",
       " 'science',\n",
       " 'course',\n",
       " '!',\n",
       " 'to',\n",
       " 'become',\n",
       " 'full',\n",
       " 'stack',\n",
       " 'data',\n",
       " 'scientist',\n",
       " '.']"
      ]
     },
     "execution_count": 22,
     "metadata": {},
     "output_type": "execute_result"
    }
   ],
   "source": [
    "from nltk.tokenize import wordpunct_tokenize\n",
    "wordpunct_tokenize(corpus)"
   ]
  },
  {
   "cell_type": "code",
   "execution_count": 25,
   "id": "65939d4c",
   "metadata": {},
   "outputs": [
    {
     "name": "stdout",
     "output_type": "stream",
     "text": [
      "['Hello', ',', 'Welcome', 'to', 'University', 'of', 'Greenwich', ',', 'Master', 'in', 'Data', 'Science', 'Course.', 'Please', 'attend', 'the', 'all', 'the', 'lectures', 'of', 'data', 'science', 'course', '!', 'to', 'become', 'full', 'stack', 'data', 'scientist', '.']\n"
     ]
    }
   ],
   "source": [
    "from nltk.tokenize import TreebankWordTokenizer # Fullstop cannot be treated as a separate tokens. \n",
    "tokenizer = TreebankWordTokenizer()\n",
    "print(tokenizer.tokenize(corpus))"
   ]
  },
  {
   "cell_type": "code",
   "execution_count": null,
   "id": "8a53250e",
   "metadata": {},
   "outputs": [],
   "source": []
  },
  {
   "cell_type": "code",
   "execution_count": null,
   "id": "21eef8d8",
   "metadata": {},
   "outputs": [],
   "source": []
  }
 ],
 "metadata": {
  "kernelspec": {
   "display_name": "base",
   "language": "python",
   "name": "python3"
  },
  "language_info": {
   "codemirror_mode": {
    "name": "ipython",
    "version": 3
   },
   "file_extension": ".py",
   "mimetype": "text/x-python",
   "name": "python",
   "nbconvert_exporter": "python",
   "pygments_lexer": "ipython3",
   "version": "3.12.2"
  }
 },
 "nbformat": 4,
 "nbformat_minor": 5
}
