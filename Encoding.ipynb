{
 "cells": [
  {
   "cell_type": "code",
   "execution_count": null,
   "id": "9a3106b1",
   "metadata": {},
   "outputs": [
    {
     "data": {
      "text/plain": [
       "'\\n1. One Hot Encoding. \\n    Text                    O/P\\n    D1 The food is good      1\\n    D2 The food is bad       0\\n    D3 Pizza is Amazing      1\\n\\nTotal Vocabulary or Unique words: \\nThe food is good bad Pizza Amazing\\n1   0    0  0    0   0     0\\n0   1    0  0    0   0     0\\n0   0    1  0    0   0     0\\n0   0    0  1    0   0     0\\n0   0    0  0    1   0     0\\n0   0    0  0    0   1     0\\n0   0    0  0    0   0     1\\n\\nD1 [[1 0 0 0 0 0 0], [0 1 0 0 0 0 0], [0 0 1 0 0 0], [0 0 0 1 0 0 0]] Dim: 4x7\\nD2 [[1 0 0 0 0 0 0], [0 1 0 0 0 0 0], [0 0 1 0 0 0], [0 0 0 1 0 0 0]] Dim: 4x7\\nAnd similar. \\n\\n# Advantages of One Hot Encoding. \\n-> Easy to implement with Python. \\n    Like OneHotEncoder, pd.get_dummies\\n\\n# Disadvantages of One Hot Encoding. \\n-> Creates sparse matrix meaning matrix containing lots of zeros.\\n'"
      ]
     },
     "execution_count": 2,
     "metadata": {},
     "output_type": "execute_result"
    }
   ],
   "source": [
    "'''\n",
    "1. One Hot Encoding. \n",
    "    Text                    O/P\n",
    "    D1 The food is good      1\n",
    "    D2 The food is bad       0\n",
    "    D3 Pizza is Amazing      1\n",
    "\n",
    "Total Vocabulary or Unique words: \n",
    "The food is good bad Pizza Amazing\n",
    "1   0    0  0    0   0     0\n",
    "0   1    0  0    0   0     0\n",
    "0   0    1  0    0   0     0\n",
    "0   0    0  1    0   0     0\n",
    "0   0    0  0    1   0     0\n",
    "0   0    0  0    0   1     0\n",
    "0   0    0  0    0   0     1\n",
    "\n",
    "D1 [[1 0 0 0 0 0 0], [0 1 0 0 0 0 0], [0 0 1 0 0 0], [0 0 0 1 0 0 0]] Dim: 4x7\n",
    "D2 [[1 0 0 0 0 0 0], [0 1 0 0 0 0 0], [0 0 1 0 0 0], [0 0 0 1 0 0 0]] Dim: 4x7\n",
    "And similar. \n",
    "\n",
    "# Advantages of One Hot Encoding. \n",
    "-> Easy to implement with Python. \n",
    "    Like OneHotEncoder, pd.get_dummies\n",
    "\n",
    "# Disadvantages of One Hot Encoding. \n",
    "-> Creates sparse matrix meaning matrix containing lots of zeros which leads to overfitting. \n",
    "-> \n",
    "'''"
   ]
  },
  {
   "cell_type": "code",
   "execution_count": null,
   "id": "99a774ee",
   "metadata": {},
   "outputs": [],
   "source": []
  },
  {
   "cell_type": "code",
   "execution_count": null,
   "id": "35719424",
   "metadata": {},
   "outputs": [],
   "source": []
  },
  {
   "cell_type": "code",
   "execution_count": null,
   "id": "e24f5b5a",
   "metadata": {},
   "outputs": [],
   "source": []
  },
  {
   "cell_type": "code",
   "execution_count": null,
   "id": "fc609009",
   "metadata": {},
   "outputs": [],
   "source": []
  }
 ],
 "metadata": {
  "kernelspec": {
   "display_name": "base",
   "language": "python",
   "name": "python3"
  },
  "language_info": {
   "codemirror_mode": {
    "name": "ipython",
    "version": 3
   },
   "file_extension": ".py",
   "mimetype": "text/x-python",
   "name": "python",
   "nbconvert_exporter": "python",
   "pygments_lexer": "ipython3",
   "version": "3.12.2"
  }
 },
 "nbformat": 4,
 "nbformat_minor": 5
}
