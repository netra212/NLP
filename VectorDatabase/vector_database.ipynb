{
 "cells": [
  {
   "cell_type": "code",
   "execution_count": null,
   "id": "ff5aaa7f",
   "metadata": {},
   "outputs": [],
   "source": [
    "'''VectorDB: \n",
    "- Used to store and search the high-dimensional vectors -> embeddings generated from data like text, images, or audio. These embedding represent the semantic meaning of the data. \n",
    "\n",
    "Q. Why Do We Need a Vector Database?\n",
    "- In traditional databases, we query data using exact values (e.g., ID = 5). But with semantic search, we want to find similar things:\n",
    "- E.g., find documents similar to: \"How to invest in real estate?\"\n",
    "\n",
    "# To do that:\n",
    "- Convert the query and documents to vectors (via a model like OpenAI, Hugging Face, etc.).\n",
    "- Store those vectors in a vector database.\n",
    "- Use similarity search (cosine similarity, Euclidean distance) to find the most similar vectors.\n",
    "\n",
    "- Indexing: \n",
    "- Similarity search:\n",
    "\n",
    "# Popular Vector Databases:\n",
    "\n",
    "- FAISS (Facebook)\n",
    "- Chroma\n",
    "- Pinecone (SaaS)\n",
    "- Weaviate\n",
    "- Milvus\n",
    "- Qdrant\n",
    "'''"
   ]
  },
  {
   "cell_type": "code",
   "execution_count": 1,
   "id": "8a20e660",
   "metadata": {},
   "outputs": [
    {
     "name": "stdout",
     "output_type": "stream",
     "text": [
      "Requirement already satisfied: sentence-transformers in /Users/user/Desktop/genai_bootcamp/venv/lib/python3.13/site-packages (4.1.0)\n",
      "Requirement already satisfied: faiss-cpu in /Users/user/Desktop/genai_bootcamp/venv/lib/python3.13/site-packages (1.11.0)\n",
      "Requirement already satisfied: transformers<5.0.0,>=4.41.0 in /Users/user/Desktop/genai_bootcamp/venv/lib/python3.13/site-packages (from sentence-transformers) (4.52.4)\n",
      "Requirement already satisfied: tqdm in /Users/user/Desktop/genai_bootcamp/venv/lib/python3.13/site-packages (from sentence-transformers) (4.67.1)\n",
      "Requirement already satisfied: torch>=1.11.0 in /Users/user/Desktop/genai_bootcamp/venv/lib/python3.13/site-packages (from sentence-transformers) (2.7.1)\n",
      "Requirement already satisfied: scikit-learn in /Users/user/Desktop/genai_bootcamp/venv/lib/python3.13/site-packages (from sentence-transformers) (1.7.0)\n",
      "Requirement already satisfied: scipy in /Users/user/Desktop/genai_bootcamp/venv/lib/python3.13/site-packages (from sentence-transformers) (1.15.3)\n",
      "Requirement already satisfied: huggingface-hub>=0.20.0 in /Users/user/Desktop/genai_bootcamp/venv/lib/python3.13/site-packages (from sentence-transformers) (0.33.0)\n",
      "Requirement already satisfied: Pillow in /Users/user/Desktop/genai_bootcamp/venv/lib/python3.13/site-packages (from sentence-transformers) (11.2.1)\n",
      "Requirement already satisfied: typing_extensions>=4.5.0 in /Users/user/Desktop/genai_bootcamp/venv/lib/python3.13/site-packages (from sentence-transformers) (4.14.0)\n",
      "Requirement already satisfied: filelock in /Users/user/Desktop/genai_bootcamp/venv/lib/python3.13/site-packages (from transformers<5.0.0,>=4.41.0->sentence-transformers) (3.18.0)\n",
      "Requirement already satisfied: numpy>=1.17 in /Users/user/Desktop/genai_bootcamp/venv/lib/python3.13/site-packages (from transformers<5.0.0,>=4.41.0->sentence-transformers) (2.3.0)\n",
      "Requirement already satisfied: packaging>=20.0 in /Users/user/Desktop/genai_bootcamp/venv/lib/python3.13/site-packages (from transformers<5.0.0,>=4.41.0->sentence-transformers) (24.2)\n",
      "Requirement already satisfied: pyyaml>=5.1 in /Users/user/Desktop/genai_bootcamp/venv/lib/python3.13/site-packages (from transformers<5.0.0,>=4.41.0->sentence-transformers) (6.0.2)\n",
      "Requirement already satisfied: regex!=2019.12.17 in /Users/user/Desktop/genai_bootcamp/venv/lib/python3.13/site-packages (from transformers<5.0.0,>=4.41.0->sentence-transformers) (2024.11.6)\n",
      "Requirement already satisfied: requests in /Users/user/Desktop/genai_bootcamp/venv/lib/python3.13/site-packages (from transformers<5.0.0,>=4.41.0->sentence-transformers) (2.32.4)\n",
      "Requirement already satisfied: tokenizers<0.22,>=0.21 in /Users/user/Desktop/genai_bootcamp/venv/lib/python3.13/site-packages (from transformers<5.0.0,>=4.41.0->sentence-transformers) (0.21.1)\n",
      "Requirement already satisfied: safetensors>=0.4.3 in /Users/user/Desktop/genai_bootcamp/venv/lib/python3.13/site-packages (from transformers<5.0.0,>=4.41.0->sentence-transformers) (0.5.3)\n",
      "Requirement already satisfied: fsspec>=2023.5.0 in /Users/user/Desktop/genai_bootcamp/venv/lib/python3.13/site-packages (from huggingface-hub>=0.20.0->sentence-transformers) (2025.3.0)\n",
      "Requirement already satisfied: hf-xet<2.0.0,>=1.1.2 in /Users/user/Desktop/genai_bootcamp/venv/lib/python3.13/site-packages (from huggingface-hub>=0.20.0->sentence-transformers) (1.1.4)\n",
      "Requirement already satisfied: setuptools in /Users/user/Desktop/genai_bootcamp/venv/lib/python3.13/site-packages (from torch>=1.11.0->sentence-transformers) (80.9.0)\n",
      "Requirement already satisfied: sympy>=1.13.3 in /Users/user/Desktop/genai_bootcamp/venv/lib/python3.13/site-packages (from torch>=1.11.0->sentence-transformers) (1.14.0)\n",
      "Requirement already satisfied: networkx in /Users/user/Desktop/genai_bootcamp/venv/lib/python3.13/site-packages (from torch>=1.11.0->sentence-transformers) (3.5)\n",
      "Requirement already satisfied: jinja2 in /Users/user/Desktop/genai_bootcamp/venv/lib/python3.13/site-packages (from torch>=1.11.0->sentence-transformers) (3.1.6)\n",
      "Requirement already satisfied: mpmath<1.4,>=1.1.0 in /Users/user/Desktop/genai_bootcamp/venv/lib/python3.13/site-packages (from sympy>=1.13.3->torch>=1.11.0->sentence-transformers) (1.3.0)\n",
      "Requirement already satisfied: MarkupSafe>=2.0 in /Users/user/Desktop/genai_bootcamp/venv/lib/python3.13/site-packages (from jinja2->torch>=1.11.0->sentence-transformers) (3.0.2)\n",
      "Requirement already satisfied: charset_normalizer<4,>=2 in /Users/user/Desktop/genai_bootcamp/venv/lib/python3.13/site-packages (from requests->transformers<5.0.0,>=4.41.0->sentence-transformers) (3.4.2)\n",
      "Requirement already satisfied: idna<4,>=2.5 in /Users/user/Desktop/genai_bootcamp/venv/lib/python3.13/site-packages (from requests->transformers<5.0.0,>=4.41.0->sentence-transformers) (3.10)\n",
      "Requirement already satisfied: urllib3<3,>=1.21.1 in /Users/user/Desktop/genai_bootcamp/venv/lib/python3.13/site-packages (from requests->transformers<5.0.0,>=4.41.0->sentence-transformers) (2.5.0)\n",
      "Requirement already satisfied: certifi>=2017.4.17 in /Users/user/Desktop/genai_bootcamp/venv/lib/python3.13/site-packages (from requests->transformers<5.0.0,>=4.41.0->sentence-transformers) (2025.6.15)\n",
      "Requirement already satisfied: joblib>=1.2.0 in /Users/user/Desktop/genai_bootcamp/venv/lib/python3.13/site-packages (from scikit-learn->sentence-transformers) (1.5.1)\n",
      "Requirement already satisfied: threadpoolctl>=3.1.0 in /Users/user/Desktop/genai_bootcamp/venv/lib/python3.13/site-packages (from scikit-learn->sentence-transformers) (3.6.0)\n"
     ]
    }
   ],
   "source": [
    "!pip install sentence-transformers faiss-cpu"
   ]
  },
  {
   "cell_type": "code",
   "execution_count": 4,
   "id": "73bf53dd",
   "metadata": {},
   "outputs": [
    {
     "name": "stdout",
     "output_type": "stream",
     "text": [
      "Requirement already satisfied: sentence-transformers in /Users/user/Desktop/genai_bootcamp/venv/lib/python3.13/site-packages (4.1.0)\n",
      "Requirement already satisfied: transformers<5.0.0,>=4.41.0 in /Users/user/Desktop/genai_bootcamp/venv/lib/python3.13/site-packages (from sentence-transformers) (4.52.4)\n",
      "Requirement already satisfied: tqdm in /Users/user/Desktop/genai_bootcamp/venv/lib/python3.13/site-packages (from sentence-transformers) (4.67.1)\n",
      "Requirement already satisfied: torch>=1.11.0 in /Users/user/Desktop/genai_bootcamp/venv/lib/python3.13/site-packages (from sentence-transformers) (2.7.1)\n",
      "Requirement already satisfied: scikit-learn in /Users/user/Desktop/genai_bootcamp/venv/lib/python3.13/site-packages (from sentence-transformers) (1.7.0)\n",
      "Requirement already satisfied: scipy in /Users/user/Desktop/genai_bootcamp/venv/lib/python3.13/site-packages (from sentence-transformers) (1.15.3)\n",
      "Requirement already satisfied: huggingface-hub>=0.20.0 in /Users/user/Desktop/genai_bootcamp/venv/lib/python3.13/site-packages (from sentence-transformers) (0.33.0)\n",
      "Requirement already satisfied: Pillow in /Users/user/Desktop/genai_bootcamp/venv/lib/python3.13/site-packages (from sentence-transformers) (11.2.1)\n",
      "Requirement already satisfied: typing_extensions>=4.5.0 in /Users/user/Desktop/genai_bootcamp/venv/lib/python3.13/site-packages (from sentence-transformers) (4.14.0)\n",
      "Requirement already satisfied: filelock in /Users/user/Desktop/genai_bootcamp/venv/lib/python3.13/site-packages (from transformers<5.0.0,>=4.41.0->sentence-transformers) (3.18.0)\n",
      "Requirement already satisfied: numpy>=1.17 in /Users/user/Desktop/genai_bootcamp/venv/lib/python3.13/site-packages (from transformers<5.0.0,>=4.41.0->sentence-transformers) (2.3.0)\n",
      "Requirement already satisfied: packaging>=20.0 in /Users/user/Desktop/genai_bootcamp/venv/lib/python3.13/site-packages (from transformers<5.0.0,>=4.41.0->sentence-transformers) (24.2)\n",
      "Requirement already satisfied: pyyaml>=5.1 in /Users/user/Desktop/genai_bootcamp/venv/lib/python3.13/site-packages (from transformers<5.0.0,>=4.41.0->sentence-transformers) (6.0.2)\n",
      "Requirement already satisfied: regex!=2019.12.17 in /Users/user/Desktop/genai_bootcamp/venv/lib/python3.13/site-packages (from transformers<5.0.0,>=4.41.0->sentence-transformers) (2024.11.6)\n",
      "Requirement already satisfied: requests in /Users/user/Desktop/genai_bootcamp/venv/lib/python3.13/site-packages (from transformers<5.0.0,>=4.41.0->sentence-transformers) (2.32.4)\n",
      "Requirement already satisfied: tokenizers<0.22,>=0.21 in /Users/user/Desktop/genai_bootcamp/venv/lib/python3.13/site-packages (from transformers<5.0.0,>=4.41.0->sentence-transformers) (0.21.1)\n",
      "Requirement already satisfied: safetensors>=0.4.3 in /Users/user/Desktop/genai_bootcamp/venv/lib/python3.13/site-packages (from transformers<5.0.0,>=4.41.0->sentence-transformers) (0.5.3)\n",
      "Requirement already satisfied: fsspec>=2023.5.0 in /Users/user/Desktop/genai_bootcamp/venv/lib/python3.13/site-packages (from huggingface-hub>=0.20.0->sentence-transformers) (2025.3.0)\n",
      "Requirement already satisfied: hf-xet<2.0.0,>=1.1.2 in /Users/user/Desktop/genai_bootcamp/venv/lib/python3.13/site-packages (from huggingface-hub>=0.20.0->sentence-transformers) (1.1.4)\n",
      "Requirement already satisfied: setuptools in /Users/user/Desktop/genai_bootcamp/venv/lib/python3.13/site-packages (from torch>=1.11.0->sentence-transformers) (80.9.0)\n",
      "Requirement already satisfied: sympy>=1.13.3 in /Users/user/Desktop/genai_bootcamp/venv/lib/python3.13/site-packages (from torch>=1.11.0->sentence-transformers) (1.14.0)\n",
      "Requirement already satisfied: networkx in /Users/user/Desktop/genai_bootcamp/venv/lib/python3.13/site-packages (from torch>=1.11.0->sentence-transformers) (3.5)\n",
      "Requirement already satisfied: jinja2 in /Users/user/Desktop/genai_bootcamp/venv/lib/python3.13/site-packages (from torch>=1.11.0->sentence-transformers) (3.1.6)\n",
      "Requirement already satisfied: mpmath<1.4,>=1.1.0 in /Users/user/Desktop/genai_bootcamp/venv/lib/python3.13/site-packages (from sympy>=1.13.3->torch>=1.11.0->sentence-transformers) (1.3.0)\n",
      "Requirement already satisfied: MarkupSafe>=2.0 in /Users/user/Desktop/genai_bootcamp/venv/lib/python3.13/site-packages (from jinja2->torch>=1.11.0->sentence-transformers) (3.0.2)\n",
      "Requirement already satisfied: charset_normalizer<4,>=2 in /Users/user/Desktop/genai_bootcamp/venv/lib/python3.13/site-packages (from requests->transformers<5.0.0,>=4.41.0->sentence-transformers) (3.4.2)\n",
      "Requirement already satisfied: idna<4,>=2.5 in /Users/user/Desktop/genai_bootcamp/venv/lib/python3.13/site-packages (from requests->transformers<5.0.0,>=4.41.0->sentence-transformers) (3.10)\n",
      "Requirement already satisfied: urllib3<3,>=1.21.1 in /Users/user/Desktop/genai_bootcamp/venv/lib/python3.13/site-packages (from requests->transformers<5.0.0,>=4.41.0->sentence-transformers) (2.5.0)\n",
      "Requirement already satisfied: certifi>=2017.4.17 in /Users/user/Desktop/genai_bootcamp/venv/lib/python3.13/site-packages (from requests->transformers<5.0.0,>=4.41.0->sentence-transformers) (2025.6.15)\n",
      "Requirement already satisfied: joblib>=1.2.0 in /Users/user/Desktop/genai_bootcamp/venv/lib/python3.13/site-packages (from scikit-learn->sentence-transformers) (1.5.1)\n",
      "Requirement already satisfied: threadpoolctl>=3.1.0 in /Users/user/Desktop/genai_bootcamp/venv/lib/python3.13/site-packages (from scikit-learn->sentence-transformers) (3.6.0)\n"
     ]
    }
   ],
   "source": [
    "!pip install sentence-transformers"
   ]
  },
  {
   "cell_type": "code",
   "execution_count": null,
   "id": "45ea71b2",
   "metadata": {},
   "outputs": [],
   "source": [
    "'''\n",
    "# Index Techniques.\n",
    "    1. FlatIndex (Brute-force) -- It's Exact Search -- going through each and vector and checking similarity score. \n",
    "    2. IVF (Inverted File Index).\n",
    "    3. (HNSWG) Hirarchical Navigable Small world graph.\n",
    "    4. (LSH) Local sensitivity hashing.\n",
    "\n",
    "# Similarity Search Techniques.\n",
    "    1. Cosine Similarity. \n",
    "    2. Dot Product.\n",
    "    3. MMR Maximum Marginal Retrieval.\n",
    "    4. Euclidean distance.\n",
    "    1. Approximate Nearest Neighbours.\n",
    "    2. Exact Search.\n",
    "'''"
   ]
  },
  {
   "cell_type": "code",
   "execution_count": 5,
   "id": "7cd0aadf",
   "metadata": {},
   "outputs": [
    {
     "name": "stdout",
     "output_type": "stream",
     "text": [
      "(4, 384)\n"
     ]
    }
   ],
   "source": [
    "from sentence_transformers import SentenceTransformer\n",
    "\n",
    "sentence_embedding = SentenceTransformer('all-MiniLM-L6-v2')\n",
    "\n",
    "documents = [\n",
    "    \"Machine learning is great for pattern recognition.\",\n",
    "    \"I love investing in real estate.\",\n",
    "    \"Neural networks are a type of machine learning model.\",\n",
    "    \"Stocks and crypto are volatile investments.\",\n",
    "]\n",
    "\n",
    "sentence_embedding = sentence_embedding.encode(documents)\n",
    "print(sentence_embedding.shape)"
   ]
  },
  {
   "cell_type": "code",
   "execution_count": null,
   "id": "1b5d8bff",
   "metadata": {},
   "outputs": [],
   "source": []
  },
  {
   "cell_type": "code",
   "execution_count": null,
   "id": "a7625f3b",
   "metadata": {},
   "outputs": [],
   "source": []
  },
  {
   "cell_type": "code",
   "execution_count": null,
   "id": "d06f637a",
   "metadata": {},
   "outputs": [],
   "source": []
  },
  {
   "cell_type": "code",
   "execution_count": null,
   "id": "194d15ee",
   "metadata": {},
   "outputs": [],
   "source": []
  },
  {
   "cell_type": "code",
   "execution_count": null,
   "id": "ae0a7001",
   "metadata": {},
   "outputs": [],
   "source": []
  }
 ],
 "metadata": {
  "kernelspec": {
   "display_name": "venv",
   "language": "python",
   "name": "python3"
  },
  "language_info": {
   "codemirror_mode": {
    "name": "ipython",
    "version": 3
   },
   "file_extension": ".py",
   "mimetype": "text/x-python",
   "name": "python",
   "nbconvert_exporter": "python",
   "pygments_lexer": "ipython3",
   "version": "3.13.5"
  }
 },
 "nbformat": 4,
 "nbformat_minor": 5
}
