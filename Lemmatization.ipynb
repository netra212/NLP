{
 "cells": [
  {
   "cell_type": "code",
   "execution_count": null,
   "id": "072482e1",
   "metadata": {},
   "outputs": [],
   "source": [
    "# Wordnet Lemmatizer. \n",
    "# Lemmatization is like a stemming techniques. \n",
    "# The output we will get after lemmatization is called a lemma. "
   ]
  },
  {
   "cell_type": "code",
   "execution_count": 4,
   "id": "0f38b725",
   "metadata": {},
   "outputs": [
    {
     "name": "stdout",
     "output_type": "stream",
     "text": [
      "Requirement already satisfied: nltk in /opt/anaconda3/lib/python3.12/site-packages (3.8.1)\n",
      "Requirement already satisfied: click in /opt/anaconda3/lib/python3.12/site-packages (from nltk) (8.1.7)\n",
      "Requirement already satisfied: joblib in /opt/anaconda3/lib/python3.12/site-packages (from nltk) (1.4.2)\n",
      "Requirement already satisfied: regex>=2021.8.3 in /opt/anaconda3/lib/python3.12/site-packages (from nltk) (2023.10.3)\n",
      "Requirement already satisfied: tqdm in /opt/anaconda3/lib/python3.12/site-packages (from nltk) (4.66.4)\n"
     ]
    }
   ],
   "source": [
    "!pip install nltk"
   ]
  },
  {
   "cell_type": "code",
   "execution_count": null,
   "id": "23381e6c",
   "metadata": {},
   "outputs": [
    {
     "name": "stdout",
     "output_type": "stream",
     "text": [
      "eating -->  eating\n",
      "eats -->  eats\n",
      "eaten -->  eaten\n",
      "writting -->  writting\n",
      "writes -->  writes\n",
      "programming -->  programming\n",
      "programs -->  program\n"
     ]
    }
   ],
   "source": [
    "'''\n",
    "POS - \n",
    "Noun - n\n",
    "verb - v\n",
    "adjective - a\n",
    "adverb - r\n",
    "'''\n",
    "\n",
    "from nltk.stem import WordNetLemmatizer\n",
    "\n",
    "words = [\"eating\", \"eats\", \"eaten\", \"writting\", \"writes\", \"programming\", \"programs\"]\n",
    "\n",
    "lemmatizer = WordNetLemmatizer()\n",
    "\n",
    "for word in words:\n",
    "    print(word + \" --> \", lemmatizer.lemmatize(word)) # default is noun. "
   ]
  },
  {
   "cell_type": "code",
   "execution_count": 1,
   "id": "b588874f",
   "metadata": {},
   "outputs": [
    {
     "name": "stdout",
     "output_type": "stream",
     "text": [
      "Hell World\n"
     ]
    }
   ],
   "source": [
    "print(\"Hell World\")"
   ]
  },
  {
   "cell_type": "code",
   "execution_count": null,
   "id": "752dbc35",
   "metadata": {},
   "outputs": [],
   "source": [
    "# Which takes more time ?\n",
    "# WordNetLemmatizer takes more time than the Stemming. \n",
    "# Or Lemmatization takes more time than the stemming. \n",
    "# Q&A, Chatbot, Text Summarization are the examples where i can used the Lemmatization. "
   ]
  },
  {
   "cell_type": "code",
   "execution_count": null,
   "metadata": {},
   "outputs": [],
   "source": []
  }
 ],
 "metadata": {
  "kernelspec": {
   "display_name": "ml-env",
   "language": "python",
   "name": "python3"
  },
  "language_info": {
   "codemirror_mode": {
    "name": "ipython",
    "version": 3
   },
   "file_extension": ".py",
   "mimetype": "text/x-python",
   "name": "python",
   "nbconvert_exporter": "python",
   "pygments_lexer": "ipython3",
   "version": "3.8.15"
  }
 },
 "nbformat": 4,
 "nbformat_minor": 5
}
