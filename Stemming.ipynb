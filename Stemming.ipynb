{
 "cells": [
  {
   "cell_type": "code",
   "execution_count": 1,
   "id": "365abbb6",
   "metadata": {},
   "outputs": [
    {
     "name": "stdout",
     "output_type": "stream",
     "text": [
      "Requirement already satisfied: nltk in /opt/anaconda3/lib/python3.12/site-packages (3.8.1)\n",
      "Requirement already satisfied: click in /opt/anaconda3/lib/python3.12/site-packages (from nltk) (8.1.7)\n",
      "Requirement already satisfied: joblib in /opt/anaconda3/lib/python3.12/site-packages (from nltk) (1.4.2)\n",
      "Requirement already satisfied: regex>=2021.8.3 in /opt/anaconda3/lib/python3.12/site-packages (from nltk) (2023.10.3)\n",
      "Requirement already satisfied: tqdm in /opt/anaconda3/lib/python3.12/site-packages (from nltk) (4.66.4)\n"
     ]
    }
   ],
   "source": [
    "# Stemming is a process of reducing a word in its word stem that affixes to suffixes and prefixes or to the roots of words known as a Lemma. \n",
    "# eating, eats, eaten -> Does not produces any impacts because at the end of the day, it is basically talking about the eat, also each and every word is representing the vector.\n",
    "# \n",
    "\n",
    "# PorterStemmer\n",
    "!pip install nltk"
   ]
  },
  {
   "cell_type": "code",
   "execution_count": 4,
   "id": "4a354005",
   "metadata": {},
   "outputs": [
    {
     "name": "stdout",
     "output_type": "stream",
     "text": [
      "running -->  run\n",
      "run -->  run\n",
      "studies -->  studi\n",
      "studi -->  studi\n",
      "cats -->  cat\n",
      "cat -->  cat\n",
      "organizational -->  organiz\n",
      "organ -->  organ\n",
      "computing -->  comput\n",
      "comput -->  comput\n",
      "agreed -->  agre\n",
      "agre -->  agr\n",
      "meetings -->  meet\n",
      "meet -->  meet\n",
      "happiest -->  happiest\n",
      "happiest -->  happiest\n",
      "digitizer -->  digit\n",
      "digit -->  digit\n",
      "relational -->  relat\n",
      "relat -->  relat\n",
      "feeding -->  feed\n",
      "feed -->  feed\n",
      "ponies -->  poni\n",
      "poni -->  poni\n",
      "caresses -->  caress\n",
      "caress -->  caress\n"
     ]
    }
   ],
   "source": [
    "from nltk.stem import PorterStemmer\n",
    "\n",
    "stemming = PorterStemmer()\n",
    "\n",
    "words = [\"running\", \"run\", \"studies\", \"studi\",\"cats\", \"cat\",\"organizational\", \"organ\",\"computing\", \"comput\", \"agreed\", \"agre\", \"meetings\", \"meet\", \"happiest\", \"happiest\", \"digitizer\", \"digit\", \"relational\", \"relat\", \"feeding\", \"feed\", \"ponies\", \"poni\", \"caresses\", \"caress\"]\n",
    "\n",
    "for word in words:\n",
    "    print(word + \" --> \", stemming.stem(word))"
   ]
  },
  {
   "cell_type": "code",
   "execution_count": null,
   "id": "2a8d0af0",
   "metadata": {},
   "outputs": [
    {
     "data": {
      "text/plain": [
       "'congratul'"
      ]
     },
     "execution_count": 5,
     "metadata": {},
     "output_type": "execute_result"
    }
   ],
   "source": [
    "stemming.stem(\"congratulations\") # This is the major disadvantages of the stemming. "
   ]
  },
  {
   "cell_type": "code",
   "execution_count": null,
   "id": "5eb413e6",
   "metadata": {},
   "outputs": [
    {
     "data": {
      "text/plain": [
       "'eat'"
      ]
     },
     "execution_count": 7,
     "metadata": {},
     "output_type": "execute_result"
    }
   ],
   "source": [
    "# RegexpStemmer\n",
    "\n",
    "from nltk.stem import RegexpStemmer\n",
    "\n",
    "reg_stemmer = RegexpStemmer('ing$|s$|e$|able$', min=4)\n",
    "reg_stemmer.stem(\"eating\") # removing lat part from \"ing\" with regular expression. "
   ]
  },
  {
   "cell_type": "code",
   "execution_count": null,
   "id": "12ade517",
   "metadata": {},
   "outputs": [
    {
     "data": {
      "text/plain": [
       "'ingeat'"
      ]
     },
     "execution_count": 8,
     "metadata": {},
     "output_type": "execute_result"
    }
   ],
   "source": [
    "reg_stemmer.stem(\"ingeating\") # only removes at the end. but if we removes the $ then it will removes from all. "
   ]
  },
  {
   "cell_type": "code",
   "execution_count": 12,
   "id": "b45d1104",
   "metadata": {},
   "outputs": [
    {
     "name": "stdout",
     "output_type": "stream",
     "text": [
      "running -->  run\n",
      "run -->  run\n",
      "studies -->  studi\n",
      "studi -->  studi\n",
      "cats -->  cat\n",
      "cat -->  cat\n",
      "organizational -->  organiz\n",
      "organ -->  organ\n",
      "computing -->  comput\n",
      "comput -->  comput\n",
      "agreed -->  agre\n",
      "agre -->  agr\n",
      "meetings -->  meet\n",
      "meet -->  meet\n",
      "happiest -->  happiest\n",
      "happiest -->  happiest\n",
      "digitizer -->  digit\n",
      "digit -->  digit\n",
      "relational -->  relat\n",
      "relat -->  relat\n",
      "feeding -->  feed\n",
      "feed -->  feed\n",
      "ponies -->  poni\n",
      "poni -->  poni\n",
      "caresses -->  caress\n",
      "caress -->  caress\n"
     ]
    }
   ],
   "source": [
    "# SnowBallStemmer.\n",
    "\n",
    "from nltk.stem import SnowballStemmer\n",
    "\n",
    "snow_ball_stemmer = SnowballStemmer('english')\n",
    "\n",
    "for word in words:\n",
    "    print(word + \" --> \", snow_ball_stemmer.stem(word))"
   ]
  },
  {
   "cell_type": "code",
   "execution_count": null,
   "id": "ff8f782d",
   "metadata": {},
   "outputs": [
    {
     "name": "stdout",
     "output_type": "stream",
     "text": [
      "fairli sportingli\n",
      "fair sport\n"
     ]
    }
   ],
   "source": [
    "# Difference between PorterStemmer and SnowBallStemmer.\n",
    "print(stemming.stem(\"fairly\"), stemming.stem(\"sportingly\"))\n",
    "\n",
    "# Snow ball stemmer performs better than the PorterStemmer. \n",
    "print(snow_ball_stemmer.stem(\"fairly\"), snow_ball_stemmer.stem(\"sportingly\"))"
   ]
  },
  {
   "cell_type": "code",
   "execution_count": null,
   "id": "1353a53c",
   "metadata": {},
   "outputs": [
    {
     "name": "stdout",
     "output_type": "stream",
     "text": [
      "goe\n"
     ]
    }
   ],
   "source": [
    "print(snow_ball_stemmer.stem(\"goes\")) "
   ]
  },
  {
   "cell_type": "code",
   "execution_count": 17,
   "id": "2741fe22",
   "metadata": {},
   "outputs": [],
   "source": [
    "# Notes: for some of the words, stemming does not produces good result as shown in the \"goes\" word. \n",
    "# so, Lemmatization comes in the point. "
   ]
  },
  {
   "cell_type": "code",
   "execution_count": null,
   "id": "a2757c27",
   "metadata": {},
   "outputs": [],
   "source": []
  }
 ],
 "metadata": {
  "kernelspec": {
   "display_name": "base",
   "language": "python",
   "name": "python3"
  },
  "language_info": {
   "codemirror_mode": {
    "name": "ipython",
    "version": 3
   },
   "file_extension": ".py",
   "mimetype": "text/x-python",
   "name": "python",
   "nbconvert_exporter": "python",
   "pygments_lexer": "ipython3",
   "version": "3.12.2"
  }
 },
 "nbformat": 4,
 "nbformat_minor": 5
}
