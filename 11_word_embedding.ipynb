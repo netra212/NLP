{
 "cells": [
  {
   "cell_type": "code",
   "execution_count": 3,
   "id": "3b2ae5db",
   "metadata": {},
   "outputs": [],
   "source": [
    "from gensim.models import Word2Vec, KeyedVectors\n",
    "import gensim.downloader as api\n",
    "import numpy as np"
   ]
  },
  {
   "cell_type": "code",
   "execution_count": null,
   "id": "bb76177e",
   "metadata": {},
   "outputs": [
    {
     "name": "stdout",
     "output_type": "stream",
     "text": [
      "/opt/anaconda3/lib/python3.12/site-packages/conda/base/context.py:201: FutureWarning: Adding 'defaults' to channel list implicitly is deprecated and will be removed in 25.3. \n",
      "\n",
      "To remove this warning, please choose a default channel explicitly with conda's regular configuration system, e.g. by adding 'defaults' to the list of channels:\n",
      "\n",
      "  conda config --add channels defaults\n",
      "\n",
      "For more information see https://docs.conda.io/projects/conda/en/stable/user-guide/configuration/use-condarc.html\n",
      "\n",
      "  deprecated.topic(\n",
      "Retrieving notices: done\n",
      "/opt/anaconda3/lib/python3.12/site-packages/conda/base/context.py:201: FutureWarning: Adding 'defaults' to channel list implicitly is deprecated and will be removed in 25.3. \n",
      "\n",
      "To remove this warning, please choose a default channel explicitly with conda's regular configuration system, e.g. by adding 'defaults' to the list of channels:\n",
      "\n",
      "  conda config --add channels defaults\n",
      "\n",
      "For more information see https://docs.conda.io/projects/conda/en/stable/user-guide/configuration/use-condarc.html\n",
      "\n",
      "  deprecated.topic(\n",
      "Channels:\n",
      " - defaults\n",
      "Platform: osx-64\n",
      "Collecting package metadata (repodata.json): done\n",
      "Solving environment: done\n",
      "\n",
      "## Package Plan ##\n",
      "\n",
      "  environment location: /opt/anaconda3/envs/gensim310\n",
      "\n",
      "  added / updated specs:\n",
      "    - python=3.10\n",
      "\n",
      "\n",
      "The following packages will be downloaded:\n",
      "\n",
      "    package                    |            build\n",
      "    ---------------------------|-----------------\n",
      "    expat-2.7.1                |       h6d0c2b6_0         150 KB\n",
      "    pip-25.1                   |     pyhc872135_2         1.3 MB\n",
      "    python-3.10.18             |       hc958d9f_0        13.1 MB\n",
      "    setuptools-78.1.1          |  py310hecd8cb5_0         1.6 MB\n",
      "    tk-8.6.14                  |       h0a12a5f_1         3.4 MB\n",
      "    tzdata-2025b               |       h04d1e81_0         116 KB\n",
      "    ------------------------------------------------------------\n",
      "                                           Total:        19.7 MB\n",
      "\n",
      "The following NEW packages will be INSTALLED:\n",
      "\n",
      "  bzip2              pkgs/main/osx-64::bzip2-1.0.8-h6c40b1e_6 \n",
      "  ca-certificates    pkgs/main/osx-64::ca-certificates-2025.2.25-hecd8cb5_0 \n",
      "  expat              pkgs/main/osx-64::expat-2.7.1-h6d0c2b6_0 \n",
      "  libcxx             pkgs/main/osx-64::libcxx-14.0.6-h9765a3e_0 \n",
      "  libffi             pkgs/main/osx-64::libffi-3.4.4-hecd8cb5_1 \n",
      "  ncurses            pkgs/main/osx-64::ncurses-6.4-hcec6c5f_0 \n",
      "  openssl            pkgs/main/osx-64::openssl-3.0.16-h184c1cd_0 \n",
      "  pip                pkgs/main/noarch::pip-25.1-pyhc872135_2 \n",
      "  python             pkgs/main/osx-64::python-3.10.18-hc958d9f_0 \n",
      "  readline           pkgs/main/osx-64::readline-8.2-hca72f7f_0 \n",
      "  setuptools         pkgs/main/osx-64::setuptools-78.1.1-py310hecd8cb5_0 \n",
      "  sqlite             pkgs/main/osx-64::sqlite-3.45.3-h6c40b1e_0 \n",
      "  tk                 pkgs/main/osx-64::tk-8.6.14-h0a12a5f_1 \n",
      "  tzdata             pkgs/main/noarch::tzdata-2025b-h04d1e81_0 \n",
      "  wheel              pkgs/main/osx-64::wheel-0.45.1-py310hecd8cb5_0 \n",
      "  xz                 pkgs/main/osx-64::xz-5.6.4-h46256e1_1 \n",
      "  zlib               pkgs/main/osx-64::zlib-1.2.13-h4b97444_1 \n",
      "\n",
      "\n",
      "\n",
      "Downloading and Extracting Packages:\n",
      "python-3.10.18       | 13.1 MB   |                                       |   0% \n",
      "tk-8.6.14            | 3.4 MB    |                                       |   0% \u001b[A\n",
      "\n",
      "setuptools-78.1.1    | 1.6 MB    |                                       |   0% \u001b[A\u001b[A\n",
      "\n",
      "\n",
      "pip-25.1             | 1.3 MB    |                                       |   0% \u001b[A\u001b[A\u001b[A\n",
      "\n",
      "\n",
      "\n",
      "expat-2.7.1          | 150 KB    |                                       |   0% \u001b[A\u001b[A\u001b[A\u001b[A\n",
      "\n",
      "\n",
      "\n",
      "\n",
      "tzdata-2025b         | 116 KB    |                                       |   0% \u001b[A\u001b[A\u001b[A\u001b[A\u001b[A\n",
      "\n",
      "\n",
      "\n",
      "expat-2.7.1          | 150 KB    | ##################################### | 100% \u001b[A\u001b[A\u001b[A\u001b[A\n",
      "\n",
      "\n",
      "pip-25.1             | 1.3 MB    | ###############4                      |  42% \u001b[A\u001b[A\u001b[A\n",
      "python-3.10.18       | 13.1 MB   | 6                                     |   2% \u001b[A\n",
      "\n",
      "\n",
      "\n",
      "expat-2.7.1          | 150 KB    | ##################################### | 100% \u001b[A\u001b[A\u001b[A\u001b[A\n",
      "\n",
      "\n",
      "\n",
      "expat-2.7.1          | 150 KB    | ##################################### | 100% \u001b[A\u001b[A\u001b[A\u001b[A\n",
      "\n",
      "setuptools-78.1.1    | 1.6 MB    | #####3                                |  14% \u001b[A\u001b[A\n",
      "\n",
      "\n",
      "\n",
      "\n",
      "tzdata-2025b         | 116 KB    | #####                                 |  14% \u001b[A\u001b[A\u001b[A\u001b[A\u001b[A\n",
      "\n",
      "\n",
      "\n",
      "\n",
      "tzdata-2025b         | 116 KB    | ##################################### | 100% \u001b[A\u001b[A\u001b[A\u001b[A\u001b[A\n",
      "\n",
      "\n",
      "pip-25.1             | 1.3 MB    | ##################################### | 100% \u001b[A\u001b[A\u001b[A\n",
      "python-3.10.18       | 13.1 MB   | ##8                                   |   8% \u001b[A\n",
      "\n",
      "setuptools-78.1.1    | 1.6 MB    | #########################6            |  69% \u001b[A\u001b[A\n",
      "\n",
      "python-3.10.18       | 13.1 MB   | #####5                                |  15% \u001b[A\u001b[A\n",
      "tk-8.6.14            | 3.4 MB    | ##################################### | 100% \u001b[A\n",
      "python-3.10.18       | 13.1 MB   | ##################################### | 100% \u001b[A\n",
      "\n",
      "\n",
      "pip-25.1             | 1.3 MB    | ##################################### | 100% \u001b[A\u001b[A\u001b[A\n",
      "\n",
      "\n",
      "pip-25.1             | 1.3 MB    | ##################################### | 100% \u001b[A\u001b[A\u001b[A\n",
      "\n",
      "\n",
      "\n",
      "\n",
      "tzdata-2025b         | 116 KB    | ##################################### | 100% \u001b[A\u001b[A\u001b[A\u001b[A\u001b[A\n",
      "\n",
      "\n",
      "\n",
      "\n",
      "tzdata-2025b         | 116 KB    | ##################################### | 100% \u001b[A\u001b[A\u001b[A\u001b[A\u001b[A\n",
      "\n",
      "setuptools-78.1.1    | 1.6 MB    | ##################################### | 100% \u001b[A\u001b[A\n",
      "                                                                                \u001b[A\n",
      "                                                                                \u001b[A\n",
      "\n",
      "                                                                                \u001b[A\u001b[A\n",
      "\n",
      "\n",
      "                                                                                \u001b[A\u001b[A\u001b[A\n",
      "\n",
      "\n",
      "\n",
      "                                                                                \u001b[A\u001b[A\u001b[A\u001b[A\n",
      "\n",
      "\n",
      "\n",
      "\n",
      "                                                                                \u001b[A\u001b[A\u001b[A\u001b[A\u001b[A\n",
      "Preparing transaction: done\n",
      "Verifying transaction: done\n",
      "Executing transaction: done\n",
      "#\n",
      "# To activate this environment, use\n",
      "#\n",
      "#     $ conda activate gensim310\n",
      "#\n",
      "# To deactivate an active environment, use\n",
      "#\n",
      "#     $ conda deactivate\n",
      "\n",
      "\n",
      "Note: you may need to restart the kernel to use updated packages.\n"
     ]
    }
   ],
   "source": [
    "conda create -n gensim310 python=3.10 -y"
   ]
  },
  {
   "cell_type": "code",
   "execution_count": null,
   "id": "936a28fc",
   "metadata": {},
   "outputs": [
    {
     "name": "stdout",
     "output_type": "stream",
     "text": [
      "\n",
      "CondaError: Run 'conda init' before 'conda activate'\n",
      "\n",
      "\n",
      "Note: you may need to restart the kernel to use updated packages.\n"
     ]
    }
   ],
   "source": [
    "conda activate gensim310"
   ]
  },
  {
   "cell_type": "code",
   "execution_count": null,
   "id": "b7d86b4b",
   "metadata": {},
   "outputs": [
    {
     "name": "stdout",
     "output_type": "stream",
     "text": [
      "Requirement already satisfied: pip in /opt/anaconda3/lib/python3.12/site-packages (24.0)\n",
      "Collecting pip\n",
      "  Using cached pip-25.1.1-py3-none-any.whl.metadata (3.6 kB)\n",
      "Using cached pip-25.1.1-py3-none-any.whl (1.8 MB)\n",
      "Installing collected packages: pip\n",
      "  Attempting uninstall: pip\n",
      "    Found existing installation: pip 24.0\n",
      "    Uninstalling pip-24.0:\n",
      "      Successfully uninstalled pip-24.0\n",
      "Successfully installed pip-25.1.1\n"
     ]
    }
   ],
   "source": [
    "!pip install --upgrade pip"
   ]
  },
  {
   "cell_type": "code",
   "execution_count": 2,
   "id": "aa51f474",
   "metadata": {},
   "outputs": [
    {
     "name": "stdout",
     "output_type": "stream",
     "text": [
      "Collecting gensim\n",
      "  Using cached gensim-4.3.3-cp310-cp310-macosx_10_9_x86_64.whl.metadata (8.2 kB)\n",
      "Collecting numpy\n",
      "  Using cached numpy-2.2.6-cp310-cp310-macosx_14_0_x86_64.whl.metadata (62 kB)\n",
      "  Using cached numpy-1.26.4-cp310-cp310-macosx_10_9_x86_64.whl.metadata (61 kB)\n",
      "Collecting scipy<1.14.0,>=1.7.0 (from gensim)\n",
      "  Using cached scipy-1.13.1-cp310-cp310-macosx_10_9_x86_64.whl.metadata (60 kB)\n",
      "Collecting smart-open>=1.8.1 (from gensim)\n",
      "  Using cached smart_open-7.1.0-py3-none-any.whl.metadata (24 kB)\n",
      "Collecting wrapt (from smart-open>=1.8.1->gensim)\n",
      "  Using cached wrapt-1.17.2-cp310-cp310-macosx_10_9_x86_64.whl.metadata (6.4 kB)\n",
      "Using cached gensim-4.3.3-cp310-cp310-macosx_10_9_x86_64.whl (24.1 MB)\n",
      "Using cached numpy-1.26.4-cp310-cp310-macosx_10_9_x86_64.whl (20.6 MB)\n",
      "Using cached scipy-1.13.1-cp310-cp310-macosx_10_9_x86_64.whl (39.3 MB)\n",
      "Using cached smart_open-7.1.0-py3-none-any.whl (61 kB)\n",
      "Using cached wrapt-1.17.2-cp310-cp310-macosx_10_9_x86_64.whl (38 kB)\n",
      "Installing collected packages: wrapt, numpy, smart-open, scipy, gensim\n",
      "\u001b[2K   \u001b[90m━━━━━━━━━━━━━━━━━━━━━━━━━━━━━━━━━━━━━━━━\u001b[0m \u001b[32m5/5\u001b[0m [gensim]2m4/5\u001b[0m [gensim]\n",
      "\u001b[1A\u001b[2KSuccessfully installed gensim-4.3.3 numpy-1.26.4 scipy-1.13.1 smart-open-7.1.0 wrapt-1.17.2\n"
     ]
    }
   ],
   "source": [
    "!pip install gensim numpy"
   ]
  },
  {
   "cell_type": "code",
   "execution_count": null,
   "id": "c62091fd",
   "metadata": {},
   "outputs": [
    {
     "name": "stdout",
     "output_type": "stream",
     "text": [
      "Requirement already satisfied: gensim in /opt/anaconda3/lib/python3.12/site-packages (4.3.3)\n",
      "Requirement already satisfied: numpy in /opt/anaconda3/lib/python3.12/site-packages (1.26.4)\n",
      "Collecting numpy\n",
      "  Using cached numpy-2.3.0-cp312-cp312-macosx_14_0_x86_64.whl.metadata (62 kB)\n",
      "Requirement already satisfied: scipy<1.14.0,>=1.7.0 in /opt/anaconda3/lib/python3.12/site-packages (from gensim) (1.13.1)\n",
      "Requirement already satisfied: smart-open>=1.8.1 in /opt/anaconda3/lib/python3.12/site-packages (from gensim) (5.2.1)\n",
      "zsh:1: command not found: pyenv\n",
      "zsh:1: command not found: pyenv\n",
      "Requirement already satisfied: gensim in /opt/anaconda3/lib/python3.12/site-packages (4.3.3)\n",
      "Requirement already satisfied: numpy in /opt/anaconda3/lib/python3.12/site-packages (1.26.4)\n",
      "Requirement already satisfied: scipy<1.14.0,>=1.7.0 in /opt/anaconda3/lib/python3.12/site-packages (from gensim) (1.13.1)\n",
      "Requirement already satisfied: smart-open>=1.8.1 in /opt/anaconda3/lib/python3.12/site-packages (from gensim) (5.2.1)\n"
     ]
    }
   ],
   "source": [
    "!pip install --upgrade gensim numpy\n",
    "\n",
    "\n",
    "# Example using pyenv\n",
    "!pyenv install 3.10.12\n",
    "!pyenv global 3.10.12\n",
    "!pip install gensim numpy"
   ]
  },
  {
   "cell_type": "code",
   "execution_count": 5,
   "id": "fdef7379",
   "metadata": {},
   "outputs": [
    {
     "name": "stdout",
     "output_type": "stream",
     "text": [
      "[==================================================] 100.0% 1662.8/1662.8MB downloaded\n"
     ]
    },
    {
     "data": {
      "text/plain": [
       "<gensim.models.keyedvectors.KeyedVectors at 0x1276c67a0>"
      ]
     },
     "execution_count": 5,
     "metadata": {},
     "output_type": "execute_result"
    }
   ],
   "source": [
    "wv = api.load('word2vec-google-news-300')\n",
    "wv"
   ]
  },
  {
   "cell_type": "code",
   "execution_count": null,
   "id": "3ebbc1ad",
   "metadata": {},
   "outputs": [],
   "source": []
  },
  {
   "cell_type": "code",
   "execution_count": null,
   "id": "a3293c58",
   "metadata": {},
   "outputs": [],
   "source": []
  }
 ],
 "metadata": {
  "kernelspec": {
   "display_name": "gensim310",
   "language": "python",
   "name": "python3"
  },
  "language_info": {
   "codemirror_mode": {
    "name": "ipython",
    "version": 3
   },
   "file_extension": ".py",
   "mimetype": "text/x-python",
   "name": "python",
   "nbconvert_exporter": "python",
   "pygments_lexer": "ipython3",
   "version": "3.10.18"
  }
 },
 "nbformat": 4,
 "nbformat_minor": 5
}
